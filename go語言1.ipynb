{
  "nbformat": 4,
  "nbformat_minor": 0,
  "metadata": {
    "colab": {
      "name": "go語言1.ipynb",
      "provenance": [],
      "authorship_tag": "ABX9TyM6YMkyxunzzXE5F/9PC3Dd",
      "include_colab_link": true
    },
    "kernelspec": {
      "name": "python3",
      "display_name": "Python 3"
    },
    "language_info": {
      "name": "python"
    }
  },
  "cells": [
    {
      "cell_type": "markdown",
      "metadata": {
        "id": "view-in-github",
        "colab_type": "text"
      },
      "source": [
        "<a href=\"https://colab.research.google.com/github/Weng-B0829022/GoLang/blob/main/go%E8%AA%9E%E8%A8%801.ipynb\" target=\"_parent\"><img src=\"https://colab.research.google.com/assets/colab-badge.svg\" alt=\"Open In Colab\"/></a>"
      ]
    },
    {
      "cell_type": "code",
      "metadata": {
        "id": "0zgu9tXu1j50"
      },
      "source": [
        "!apt install golang"
      ],
      "execution_count": null,
      "outputs": []
    },
    {
      "cell_type": "code",
      "metadata": {
        "colab": {
          "base_uri": "https://localhost:8080/"
        },
        "id": "TM80RW4r1ttw",
        "outputId": "6c1c154d-9685-430f-e010-4968249493cc"
      },
      "source": [
        "%%writefile main.go\n",
        "package main\n",
        "import \"fmt\"\n",
        "func main(){\n",
        "    fmt.Printf(\"AAAAAAAAAAA\")\n",
        "}"
      ],
      "execution_count": null,
      "outputs": [
        {
          "output_type": "stream",
          "text": [
            "Writing main.go\n"
          ],
          "name": "stdout"
        }
      ]
    },
    {
      "cell_type": "code",
      "metadata": {
        "colab": {
          "base_uri": "https://localhost:8080/"
        },
        "id": "GtA9c5Yi2Rd2",
        "outputId": "d2d474e7-296f-4c26-abb4-913376717bac"
      },
      "source": [
        "!go run main.go"
      ],
      "execution_count": null,
      "outputs": [
        {
          "output_type": "stream",
          "text": [
            "AAAAAAAAAAA"
          ],
          "name": "stdout"
        }
      ]
    }
  ]
}